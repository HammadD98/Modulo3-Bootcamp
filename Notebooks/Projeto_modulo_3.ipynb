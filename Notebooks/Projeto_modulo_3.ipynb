{
  "nbformat": 4,
  "nbformat_minor": 0,
  "metadata": {
    "colab": {
      "name": "Projeto_modulo_3.ipynb",
      "provenance": [],
      "authorship_tag": "ABX9TyOnQPoL+PUpCbDu0l/UG3kr",
      "include_colab_link": true
    },
    "kernelspec": {
      "name": "python3",
      "display_name": "Python 3"
    },
    "language_info": {
      "name": "python"
    }
  },
  "cells": [
    {
      "cell_type": "markdown",
      "metadata": {
        "id": "view-in-github",
        "colab_type": "text"
      },
      "source": [
        "<a href=\"https://colab.research.google.com/github/HammadD98/Modulo3-Bootcamp/blob/main/Notebooks/Projeto_modulo_3.ipynb\" target=\"_parent\"><img src=\"https://colab.research.google.com/assets/colab-badge.svg\" alt=\"Open In Colab\"/></a>"
      ]
    },
    {
      "cell_type": "markdown",
      "source": [
        "# Projeto do Modulo 3: Series Temporais\n"
      ],
      "metadata": {
        "id": "M27ckbRMkIxv"
      }
    },
    {
      "cell_type": "code",
      "execution_count": null,
      "metadata": {
        "id": "OWpaonJ9gR-O"
      },
      "outputs": [],
      "source": [
        ""
      ]
    }
  ]
}