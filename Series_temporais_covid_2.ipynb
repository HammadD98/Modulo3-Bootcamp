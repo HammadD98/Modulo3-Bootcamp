{
  "nbformat": 4,
  "nbformat_minor": 0,
  "metadata": {
    "colab": {
      "provenance": [],
      "authorship_tag": "ABX9TyPurloeCZ8ofx+Y6A6Y+pzk",
      "include_colab_link": true
    },
    "kernelspec": {
      "name": "python3",
      "display_name": "Python 3"
    },
    "language_info": {
      "name": "python"
    }
  },
  "cells": [
    {
      "cell_type": "markdown",
      "metadata": {
        "id": "view-in-github",
        "colab_type": "text"
      },
      "source": [
        "<a href=\"https://colab.research.google.com/github/HammadN98/Previsao_Temporal_Prophet/blob/main/Series_temporais_covid_2.ipynb\" target=\"_parent\"><img src=\"https://colab.research.google.com/assets/colab-badge.svg\" alt=\"Open In Colab\"/></a>"
      ]
    },
    {
      "cell_type": "code",
      "execution_count": 1,
      "metadata": {
        "id": "Mm5NZ02wGZpp"
      },
      "outputs": [],
      "source": [
        "url = 'https://raw.githubusercontent.com/HammadN98/Previsao_Temporal_Prophet/refs/heads/main/Dados/dados_esse.csv'"
      ]
    },
    {
      "cell_type": "code",
      "source": [],
      "metadata": {
        "id": "f99XR7h0M0sc"
      },
      "execution_count": null,
      "outputs": []
    }
  ]
}